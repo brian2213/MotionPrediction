{
  "nbformat": 4,
  "nbformat_minor": 0,
  "metadata": {
    "colab": {
      "name": "hand pose estimation.ipynb",
      "version": "0.3.2",
      "views": {},
      "default_view": {},
      "provenance": [],
      "collapsed_sections": []
    },
    "kernelspec": {
      "name": "python3",
      "display_name": "Python 3"
    },
    "accelerator": "GPU"
  },
  "cells": [
    {
      "metadata": {
        "id": "vc9Z5c5aw-jc",
        "colab_type": "code",
        "colab": {
          "autoexec": {
            "startup": false,
            "wait_interval": 0
          }
        }
      },
      "cell_type": "code",
      "source": [
        "from google.colab import files\n",
        "files.upload()"
      ],
      "execution_count": 0,
      "outputs": []
    },
    {
      "metadata": {
        "id": "APZ-eb4XO1kd",
        "colab_type": "code",
        "colab": {
          "autoexec": {
            "startup": false,
            "wait_interval": 0
          },
          "base_uri": "https://localhost:8080/",
          "height": 34
        },
        "outputId": "80764597-7464-4ef8-ad74-90b348363620",
        "executionInfo": {
          "status": "ok",
          "timestamp": 1529031852041,
          "user_tz": 420,
          "elapsed": 3118,
          "user": {
            "displayName": "Yi-Ming Chen",
            "photoUrl": "https://lh3.googleusercontent.com/a/default-user=s128",
            "userId": "104821827284582167923"
          }
        }
      },
      "cell_type": "code",
      "source": [
        "import json\n",
        "import pickle\n",
        "\n",
        "import cv2\n",
        "import matplotlib.pyplot as plt\n",
        "import tensorflow as tf\n",
        "from keras.backend.tensorflow_backend import set_session\n",
        "from keras.layers import *\n",
        "from keras.models import Sequential\n",
        "from keras.models import model_from_json\n",
        "from keras.optimizers import Adam\n",
        "\n",
        "np.random.seed(1234)"
      ],
      "execution_count": 2,
      "outputs": [
        {
          "output_type": "stream",
          "text": [
            "Using TensorFlow backend.\n"
          ],
          "name": "stderr"
        }
      ]
    },
    {
      "metadata": {
        "id": "uhl98jx_iGcn",
        "colab_type": "code",
        "colab": {
          "autoexec": {
            "startup": false,
            "wait_interval": 0
          }
        }
      },
      "cell_type": "code",
      "source": [
        "def get_image_data(num_training=63000, num_validation=1000, num_test=10000):\n",
        "    \"\"\"\n",
        "    Load the image dataset from disk and perform preprocessing to prepare\n",
        "    it for the two-layer neural net classifier. These are the same steps as\n",
        "    we used for the SVM, but condensed to a single function.\n",
        "    \"\"\"\n",
        "    # Load the raw image data\n",
        "    image_dir = \"test-32data.save\"\n",
        "\n",
        "    data = pickle.load(open(image_dir, 'rb'))\n",
        "    X_train, y_train, X_test, y_test = data['data'][:80000],data['label'][:80000],data['data'][80000:],data['label'][80000:]\n",
        "    X_train=np.array(X_train,'float64')\n",
        "    y_train= np.array(y_train,'float64')\n",
        "    X_test=np.array(X_test,'float64')\n",
        "    y_test=np.array(y_test,'float64')\n",
        "    # Subsample the data\n",
        "    mask = range(num_training, num_training + num_validation)\n",
        "    X_val = X_train[mask]\n",
        "    y_val = y_train[mask]\n",
        "    mask = range(num_training)\n",
        "    X_train = X_train[mask]\n",
        "    y_train = y_train[mask]\n",
        "    mask = range(num_test)\n",
        "    X_test = X_test[mask]\n",
        "    y_test = y_test[mask]\n",
        "\n",
        "    # Normalize the data: subtract the mean image\n",
        "    mean_image = np.mean(X_train, axis=0)\n",
        "    X_train -= mean_image\n",
        "    X_val -= mean_image\n",
        "    X_test -= mean_image\n",
        "\n",
        "    return X_train, y_train, X_val, y_val, X_test, y_test\n",
        "  \n",
        "def calculate_error(label1,label2):\n",
        "\n",
        "    square_error = np.square(np.array(label1) - np.array(label2))\n",
        "\n",
        "    error_sum=np.sum(square_error)/square_error.size\n",
        "\n",
        "    return np.sqrt(error_sum) "
      ],
      "execution_count": 0,
      "outputs": []
    },
    {
      "metadata": {
        "id": "kVZgfQ31GgcN",
        "colab_type": "code",
        "colab": {
          "autoexec": {
            "startup": false,
            "wait_interval": 0
          },
          "base_uri": "https://localhost:8080/",
          "height": 1941
        },
        "outputId": "80966c7a-ca42-4095-bd26-7ef5a843b294",
        "executionInfo": {
          "status": "ok",
          "timestamp": 1529032297649,
          "user_tz": 420,
          "elapsed": 441531,
          "user": {
            "displayName": "Yi-Ming Chen",
            "photoUrl": "https://lh3.googleusercontent.com/a/default-user=s128",
            "userId": "104821827284582167923"
          }
        }
      },
      "cell_type": "code",
      "source": [
        "\n",
        "\n",
        "# Invoke the above function to get our data.\n",
        "X_train, y_train, X_val, y_val, X_test, y_test = get_image_data()\n",
        "y_train=y_train.reshape(-1,42)\n",
        "y_val=y_val.reshape(-1,42)\n",
        "y_test=y_test.reshape(-1,42)\n",
        "print('Train data shape: ', X_train.shape)\n",
        "print('Train labels shape: ', y_train.shape)\n",
        "print('Validation data shape: ', X_val.shape)\n",
        "print('Validation labels shape: ', y_val.shape)\n",
        "print('Test data shape: ', X_test.shape)\n",
        "print('Test labels shape: ', y_test.shape)\n",
        "\n",
        "config = tf.ConfigProto()\n",
        "config.gpu_options.allow_growth = True\n",
        "set_session(tf.Session(config=config))\n",
        "\n",
        "model = Sequential([\n",
        "    Convolution2D(\n",
        "        nb_filter=12,\n",
        "        nb_row=5,\n",
        "        nb_col=5,\n",
        "        subsample=(2, 2),\n",
        "        input_shape=(32, 32, 3)\n",
        "    ),\n",
        "    LeakyReLU(\n",
        "        alpha=0.05\n",
        "    ),\n",
        "    Convolution2D(\n",
        "        nb_filter=12,\n",
        "        nb_row=5,\n",
        "        nb_col=5,\n",
        "#         subsample=(2, 2),\n",
        "    ),\n",
        "    LeakyReLU(\n",
        "        alpha=0.05\n",
        "    ),\n",
        "#     Convolution2D(\n",
        "#         nb_filter=12,\n",
        "#         nb_row=5,\n",
        "#         nb_col=5,\n",
        "#     ),\n",
        "#     LeakyReLU(\n",
        "#         alpha=0.05\n",
        "#     ),\n",
        "    Flatten(),\n",
        "    Dense(\n",
        "        output_dim=1024,\n",
        "        activation='relu'\n",
        "    ),\n",
        "    Dense(\n",
        "        output_dim=1024,\n",
        "        activation='relu'\n",
        "    ),\n",
        "#         Dense(\n",
        "#             output_dim=30,\n",
        "#         ),\n",
        "    Dense(\n",
        "        output_dim=42,\n",
        "#             weights=(pca_eigenvectors, pca_mean),\n",
        "        trainable=False\n",
        "    )\n",
        "])\n",
        "\n",
        "model.compile(\n",
        "    optimizer=Adam(),\n",
        "    loss='mse'\n",
        ")\n",
        "\n",
        "model.fit(\n",
        "    X_train,\n",
        "    y_train,\n",
        "    batch_size=100,\n",
        "    epochs=50,\n",
        ")\n"
      ],
      "execution_count": 4,
      "outputs": [
        {
          "output_type": "stream",
          "text": [
            "Train data shape:  (63000, 32, 32, 3)\n",
            "Train labels shape:  (63000, 42)\n",
            "Validation data shape:  (1000, 32, 32, 3)\n",
            "Validation labels shape:  (1000, 42)\n",
            "Test data shape:  (10000, 32, 32, 3)\n",
            "Test labels shape:  (10000, 42)\n"
          ],
          "name": "stdout"
        },
        {
          "output_type": "stream",
          "text": [
            "/usr/local/lib/python3.6/dist-packages/ipykernel_launcher.py:22: UserWarning: Update your `Conv2D` call to the Keras 2 API: `Conv2D(input_shape=(32, 32, 3..., kernel_size=(5, 5), filters=12, strides=(2, 2))`\n",
            "/usr/local/lib/python3.6/dist-packages/ipykernel_launcher.py:30: UserWarning: Update your `Conv2D` call to the Keras 2 API: `Conv2D(kernel_size=(5, 5), filters=12)`\n",
            "/usr/local/lib/python3.6/dist-packages/ipykernel_launcher.py:47: UserWarning: Update your `Dense` call to the Keras 2 API: `Dense(activation=\"relu\", units=1024)`\n",
            "/usr/local/lib/python3.6/dist-packages/ipykernel_launcher.py:51: UserWarning: Update your `Dense` call to the Keras 2 API: `Dense(activation=\"relu\", units=1024)`\n",
            "/usr/local/lib/python3.6/dist-packages/ipykernel_launcher.py:59: UserWarning: Update your `Dense` call to the Keras 2 API: `Dense(trainable=False, units=42)`\n"
          ],
          "name": "stderr"
        },
        {
          "output_type": "stream",
          "text": [
            "Epoch 1/50\n",
            "63000/63000 [==============================] - 10s 154us/step - loss: 8.3693\n",
            "Epoch 2/50\n",
            "63000/63000 [==============================] - 9s 138us/step - loss: 2.6771\n",
            "Epoch 3/50\n",
            "63000/63000 [==============================] - 9s 141us/step - loss: 1.8937\n",
            "Epoch 4/50\n",
            "22100/63000 [=========>....................] - ETA: 5s - loss: 1.4512"
          ],
          "name": "stdout"
        },
        {
          "output_type": "stream",
          "text": [
            "63000/63000 [==============================] - 9s 138us/step - loss: 1.5092\n",
            "Epoch 5/50\n",
            "63000/63000 [==============================] - 9s 138us/step - loss: 1.2832\n",
            "Epoch 6/50\n",
            "63000/63000 [==============================] - 9s 141us/step - loss: 1.1431\n",
            "Epoch 7/50\n",
            "34500/63000 [===============>..............] - ETA: 3s - loss: 0.9458"
          ],
          "name": "stdout"
        },
        {
          "output_type": "stream",
          "text": [
            "63000/63000 [==============================] - 9s 138us/step - loss: 0.9914\n",
            "Epoch 8/50\n",
            "63000/63000 [==============================] - 9s 137us/step - loss: 0.9613\n",
            "Epoch 9/50\n",
            "63000/63000 [==============================] - 9s 138us/step - loss: 0.9297\n",
            "Epoch 10/50\n",
            "35900/63000 [================>.............] - ETA: 3s - loss: 0.7611"
          ],
          "name": "stdout"
        },
        {
          "output_type": "stream",
          "text": [
            "63000/63000 [==============================] - 9s 141us/step - loss: 0.8427\n",
            "Epoch 11/50\n",
            "63000/63000 [==============================] - 9s 139us/step - loss: 0.7820\n",
            "Epoch 12/50\n",
            "63000/63000 [==============================] - 9s 138us/step - loss: 0.7659\n",
            "Epoch 13/50\n",
            "36300/63000 [================>.............] - ETA: 3s - loss: 0.7088"
          ],
          "name": "stdout"
        },
        {
          "output_type": "stream",
          "text": [
            "63000/63000 [==============================] - 9s 143us/step - loss: 0.7227\n",
            "Epoch 14/50\n",
            "63000/63000 [==============================] - 9s 139us/step - loss: 0.6950\n",
            "Epoch 15/50\n",
            "63000/63000 [==============================] - 9s 138us/step - loss: 0.6476\n",
            "Epoch 16/50\n",
            "36500/63000 [================>.............] - ETA: 3s - loss: 0.5855"
          ],
          "name": "stdout"
        },
        {
          "output_type": "stream",
          "text": [
            "63000/63000 [==============================] - 9s 139us/step - loss: 0.6293\n",
            "Epoch 17/50\n",
            "63000/63000 [==============================] - 9s 140us/step - loss: 0.6110\n",
            "Epoch 18/50\n",
            "63000/63000 [==============================] - 9s 137us/step - loss: 0.5778\n",
            "Epoch 19/50\n",
            "36100/63000 [================>.............] - ETA: 3s - loss: 0.5406"
          ],
          "name": "stdout"
        },
        {
          "output_type": "stream",
          "text": [
            "63000/63000 [==============================] - 9s 138us/step - loss: 0.5529\n",
            "Epoch 20/50\n",
            "63000/63000 [==============================] - 9s 140us/step - loss: 0.5661\n",
            "Epoch 21/50\n",
            "63000/63000 [==============================] - 9s 136us/step - loss: 0.5077\n",
            "Epoch 22/50\n",
            "36900/63000 [================>.............] - ETA: 3s - loss: 0.4857"
          ],
          "name": "stdout"
        },
        {
          "output_type": "stream",
          "text": [
            "63000/63000 [==============================] - 9s 135us/step - loss: 0.4871\n",
            "Epoch 23/50\n",
            "63000/63000 [==============================] - 9s 138us/step - loss: 0.5303\n",
            "Epoch 24/50\n",
            "63000/63000 [==============================] - 9s 135us/step - loss: 0.5012\n",
            "Epoch 25/50\n",
            "37300/63000 [================>.............] - ETA: 3s - loss: 0.4368"
          ],
          "name": "stdout"
        },
        {
          "output_type": "stream",
          "text": [
            "63000/63000 [==============================] - 8s 135us/step - loss: 0.4573\n",
            "Epoch 26/50\n",
            "63000/63000 [==============================] - 9s 135us/step - loss: 0.4311\n",
            "Epoch 27/50\n",
            "63000/63000 [==============================] - 9s 139us/step - loss: 0.4466\n",
            "Epoch 28/50\n",
            "36300/63000 [================>.............] - ETA: 3s - loss: 0.4290"
          ],
          "name": "stdout"
        },
        {
          "output_type": "stream",
          "text": [
            "63000/63000 [==============================] - 8s 134us/step - loss: 0.4348\n",
            "Epoch 29/50\n",
            "63000/63000 [==============================] - 9s 136us/step - loss: 0.4004\n",
            "Epoch 30/50\n",
            "63000/63000 [==============================] - 9s 138us/step - loss: 0.4370\n",
            "Epoch 31/50\n",
            "36700/63000 [================>.............] - ETA: 3s - loss: 0.4088"
          ],
          "name": "stdout"
        },
        {
          "output_type": "stream",
          "text": [
            "63000/63000 [==============================] - 9s 137us/step - loss: 0.4226\n",
            "Epoch 32/50\n",
            "63000/63000 [==============================] - 9s 136us/step - loss: 0.4014\n",
            "Epoch 33/50\n",
            "63000/63000 [==============================] - 9s 135us/step - loss: 0.3713\n",
            "Epoch 34/50\n",
            "37000/63000 [================>.............] - ETA: 3s - loss: 0.3573"
          ],
          "name": "stdout"
        },
        {
          "output_type": "stream",
          "text": [
            "63000/63000 [==============================] - 9s 138us/step - loss: 0.3694\n",
            "Epoch 35/50\n",
            "63000/63000 [==============================] - 8s 135us/step - loss: 0.3793\n",
            "Epoch 36/50\n",
            "63000/63000 [==============================] - 8s 135us/step - loss: 0.3441\n",
            "Epoch 37/50\n",
            "37400/63000 [================>.............] - ETA: 3s - loss: 0.3607"
          ],
          "name": "stdout"
        },
        {
          "output_type": "stream",
          "text": [
            "63000/63000 [==============================] - 9s 136us/step - loss: 0.3560\n",
            "Epoch 38/50\n",
            "63000/63000 [==============================] - 9s 137us/step - loss: 0.3619\n",
            "Epoch 39/50\n",
            "63000/63000 [==============================] - 9s 135us/step - loss: 0.3593\n",
            "Epoch 40/50\n",
            "37300/63000 [================>.............] - ETA: 3s - loss: 0.3430"
          ],
          "name": "stdout"
        },
        {
          "output_type": "stream",
          "text": [
            "63000/63000 [==============================] - 9s 136us/step - loss: 0.3501\n",
            "Epoch 41/50\n",
            "63000/63000 [==============================] - 9s 139us/step - loss: 0.3164\n",
            "Epoch 42/50\n",
            "63000/63000 [==============================] - 9s 135us/step - loss: 0.3174\n",
            "Epoch 43/50\n",
            "37400/63000 [================>.............] - ETA: 3s - loss: 0.3062"
          ],
          "name": "stdout"
        },
        {
          "output_type": "stream",
          "text": [
            "63000/63000 [==============================] - 9s 135us/step - loss: 0.3022\n",
            "Epoch 44/50\n",
            "63000/63000 [==============================] - 9s 137us/step - loss: 0.3264\n",
            "Epoch 45/50\n",
            "63000/63000 [==============================] - 9s 136us/step - loss: 0.3448\n",
            "Epoch 46/50\n",
            "37400/63000 [================>.............] - ETA: 3s - loss: 0.2878"
          ],
          "name": "stdout"
        },
        {
          "output_type": "stream",
          "text": [
            "63000/63000 [==============================] - 9s 135us/step - loss: 0.2913\n",
            "Epoch 47/50\n",
            "63000/63000 [==============================] - 9s 136us/step - loss: 0.2897\n",
            "Epoch 48/50\n",
            "63000/63000 [==============================] - 9s 138us/step - loss: 0.3055\n",
            "Epoch 49/50\n",
            "36900/63000 [================>.............] - ETA: 3s - loss: 0.2881"
          ],
          "name": "stdout"
        },
        {
          "output_type": "stream",
          "text": [
            "63000/63000 [==============================] - 9s 136us/step - loss: 0.3002\n",
            "Epoch 50/50\n",
            "63000/63000 [==============================] - 9s 136us/step - loss: 0.2755\n"
          ],
          "name": "stdout"
        },
        {
          "output_type": "execute_result",
          "data": {
            "text/plain": [
              "<keras.callbacks.History at 0x7f703b9b3048>"
            ]
          },
          "metadata": {
            "tags": []
          },
          "execution_count": 4
        }
      ]
    },
    {
      "metadata": {
        "id": "-rRCYsupGwkq",
        "colab_type": "code",
        "colab": {
          "autoexec": {
            "startup": false,
            "wait_interval": 0
          },
          "base_uri": "https://localhost:8080/",
          "height": 68
        },
        "outputId": "6b2e9d84-124c-4f00-c77b-a1d82afc0ef4",
        "executionInfo": {
          "status": "ok",
          "timestamp": 1529032909268,
          "user_tz": 420,
          "elapsed": 10436,
          "user": {
            "displayName": "Yi-Ming Chen",
            "photoUrl": "https://lh3.googleusercontent.com/a/default-user=s128",
            "userId": "104821827284582167923"
          }
        }
      },
      "cell_type": "code",
      "source": [
        "\n",
        "# Load the raw image data\n",
        "image_dir = \"test-32data.save\"\n",
        "\n",
        "data = pickle.load(open(image_dir, 'rb'))\n",
        "X_train, y_train, X_test, y_test = data['data'][:80000],data['label'][:80000],data['data'][80000:],data['label'][80000:]\n",
        "\n",
        "\n",
        "\n",
        "sample = np.array(X_train, 'float64')\n",
        "mean_image = np.mean(sample, axis=0)\n",
        "sample -= mean_image\n",
        "predictions_train = model.predict(sample).reshape(-1, 21, 2)\n",
        "\n",
        "sample = np.array(X_val, 'float64')\n",
        "mean_image = np.mean(sample, axis=0)\n",
        "sample -= mean_image\n",
        "predictions_val = model.predict(sample)\n",
        "\n",
        "sample = np.array(X_test, 'float64')\n",
        "mean_image = np.mean(sample, axis=0)\n",
        "sample -= mean_image\n",
        "predictions_test = model.predict(sample).reshape(-1, 21, 2)\n",
        "\n",
        "\n",
        "print(\"Train set pixels error: %s\"%(calculate_error(y_train,predictions_train)))\n",
        "print(\"Validation set pixels error: %s\" % (calculate_error(y_val, predictions_val)))\n",
        "print(\"Test set pixels error: %s\" % (calculate_error(y_test, predictions_test)))\n",
        "\n"
      ],
      "execution_count": 5,
      "outputs": [
        {
          "output_type": "stream",
          "text": [
            "Train set pixels error: 0.759125413221096\n",
            "Validation set pixels error: 1.089386272154076\n",
            "Test set pixels error: 1.0882259505136092\n"
          ],
          "name": "stdout"
        }
      ]
    },
    {
      "metadata": {
        "id": "xXFTCXvIfvet",
        "colab_type": "code",
        "colab": {
          "autoexec": {
            "startup": false,
            "wait_interval": 0
          },
          "base_uri": "https://localhost:8080/",
          "height": 711
        },
        "outputId": "5a47a831-0529-4591-aa5e-5e7b162e7572",
        "executionInfo": {
          "status": "ok",
          "timestamp": 1529032910129,
          "user_tz": 420,
          "elapsed": 666,
          "user": {
            "displayName": "Yi-Ming Chen",
            "photoUrl": "https://lh3.googleusercontent.com/a/default-user=s128",
            "userId": "104821827284582167923"
          }
        }
      },
      "cell_type": "code",
      "source": [
        "\n",
        "print(\"Predict joint position\")\n",
        "\n",
        "# data_file_name = json.load(open(\"data_file_name.json\", 'r'))\n",
        "# demo_index = data_file_name.index('074_587_R')\n",
        "demo_index=1000\n",
        "demo = X_test[demo_index]\n",
        "\n",
        "out = predictions_test[demo_index]\n",
        "plt.imshow(cv2.cvtColor(X_test[demo_index], cv2.COLOR_BGR2RGB))\n",
        "plt.scatter(out[:, 1], out[:, 0])\n",
        "plt.show()\n",
        "\n",
        "print(\"Actual joint position\")\n",
        "demo_index=demo_index+80000\n",
        "demo = data['data'][demo_index]\n",
        "\n",
        "plt.imshow(cv2.cvtColor(demo, cv2.COLOR_BGR2RGB))\n",
        "plt.scatter(data['label'][demo_index][:, 1], data['label'][demo_index][:, 0])\n",
        "plt.show()"
      ],
      "execution_count": 6,
      "outputs": [
        {
          "output_type": "stream",
          "text": [
            "Predict joint position\n"
          ],
          "name": "stdout"
        },
        {
          "output_type": "display_data",
          "data": {
            "image/png": "[encoded data removed]",
            "text/plain": [
              "<matplotlib.figure.Figure at 0x7f703ba08e48>"
            ]
          },
          "metadata": {
            "tags": []
          }
        },
        {
          "output_type": "stream",
          "text": [
            "Actual joint position\n"
          ],
          "name": "stdout"
        },
        {
          "output_type": "display_data",
          "data": {
            "image/png": "[encoded data removed]",
            "text/plain": [
              "<matplotlib.figure.Figure at 0x7f70363f4908>"
            ]
          },
          "metadata": {
            "tags": []
          }
        }
      ]
    },
    {
      "metadata": {
        "id": "iW4SOxsAvIWg",
        "colab_type": "code",
        "colab": {
          "autoexec": {
            "startup": false,
            "wait_interval": 0
          },
          "base_uri": "https://localhost:8080/",
          "height": 711
        },
        "outputId": "2634c78d-2795-4eb0-f978-deaed3db8eb0",
        "executionInfo": {
          "status": "ok",
          "timestamp": 1529032930563,
          "user_tz": 420,
          "elapsed": 542,
          "user": {
            "displayName": "Yi-Ming Chen",
            "photoUrl": "https://lh3.googleusercontent.com/a/default-user=s128",
            "userId": "104821827284582167923"
          }
        }
      },
      "cell_type": "code",
      "source": [
        "print(\"Predict joint position\")\n",
        "\n",
        "# data_file_name = json.load(open(\"data_file_name.json\", 'r'))\n",
        "# demo_index = data_file_name.index('074_587_R')\n",
        "demo_index=1005\n",
        "demo = X_test[demo_index]\n",
        "\n",
        "out = predictions_test[demo_index]\n",
        "plt.imshow(cv2.cvtColor(X_test[demo_index], cv2.COLOR_BGR2RGB))\n",
        "plt.scatter(out[:, 1], out[:, 0])\n",
        "plt.show()\n",
        "\n",
        "print(\"Actual joint position\")\n",
        "demo_index=demo_index+80000\n",
        "demo = data['data'][demo_index]\n",
        "\n",
        "plt.imshow(cv2.cvtColor(demo, cv2.COLOR_BGR2RGB))\n",
        "plt.scatter(data['label'][demo_index][:, 1], data['label'][demo_index][:, 0])\n",
        "plt.show()"
      ],
      "execution_count": 7,
      "outputs": [
        {
          "output_type": "stream",
          "text": [
            "Predict joint position\n"
          ],
          "name": "stdout"
        },
        {
          "output_type": "display_data",
          "data": {
            "image/png": "[encoded data removed]",
            "text/plain": [
              "<matplotlib.figure.Figure at 0x7f70a0ac7c88>"
            ]
          },
          "metadata": {
            "tags": []
          }
        },
        {
          "output_type": "stream",
          "text": [
            "Actual joint position\n"
          ],
          "name": "stdout"
        },
        {
          "output_type": "display_data",
          "data": {
            "image/png": "[encoded data removed]",
            "text/plain": [
              "<matplotlib.figure.Figure at 0x7f6fbd7d8a20>"
            ]
          },
          "metadata": {
            "tags": []
          }
        }
      ]
    },
    {
      "metadata": {
        "id": "WJbjF-0Xdyvg",
        "colab_type": "code",
        "colab": {
          "autoexec": {
            "startup": false,
            "wait_interval": 0
          },
          "base_uri": "https://localhost:8080/",
          "height": 711
        },
        "outputId": "dcc562c5-b6aa-42ba-998b-3e9dfc39f6f6",
        "executionInfo": {
          "status": "ok",
          "timestamp": 1529032948983,
          "user_tz": 420,
          "elapsed": 529,
          "user": {
            "displayName": "Yi-Ming Chen",
            "photoUrl": "https://lh3.googleusercontent.com/a/default-user=s128",
            "userId": "104821827284582167923"
          }
        }
      },
      "cell_type": "code",
      "source": [
        "print(\"Predict joint position\")\n",
        "\n",
        "# data_file_name = json.load(open(\"data_file_name.json\", 'r'))\n",
        "# demo_index = data_file_name.index('074_587_R')\n",
        "demo_index=1015\n",
        "demo = X_test[demo_index]\n",
        "\n",
        "out = predictions_test[demo_index]\n",
        "plt.imshow(cv2.cvtColor(X_test[demo_index], cv2.COLOR_BGR2RGB))\n",
        "plt.scatter(out[:, 1], out[:, 0])\n",
        "plt.show()\n",
        "\n",
        "print(\"Actual joint position\")\n",
        "demo_index=demo_index+80000\n",
        "demo = data['data'][demo_index]\n",
        "\n",
        "plt.imshow(cv2.cvtColor(demo, cv2.COLOR_BGR2RGB))\n",
        "plt.scatter(data['label'][demo_index][:, 1], data['label'][demo_index][:, 0])\n",
        "plt.show()"
      ],
      "execution_count": 8,
      "outputs": [
        {
          "output_type": "stream",
          "text": [
            "Predict joint position\n"
          ],
          "name": "stdout"
        },
        {
          "output_type": "display_data",
          "data": {
            "image/png": "[encoded data removed]",
            "text/plain": [
              "<matplotlib.figure.Figure at 0x7f6fbd801518>"
            ]
          },
          "metadata": {
            "tags": []
          }
        },
        {
          "output_type": "stream",
          "text": [
            "Actual joint position\n"
          ],
          "name": "stdout"
        },
        {
          "output_type": "display_data",
          "data": {
            "image/png": "[encoded data removed]",
            "text/plain": [
              "<matplotlib.figure.Figure at 0x7f6fbd7d8668>"
            ]
          },
          "metadata": {
            "tags": []
          }
        }
      ]
    }
  ]
}