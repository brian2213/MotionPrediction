{
  "nbformat": 4,
  "nbformat_minor": 0,
  "metadata": {
    "colab": {
      "name": "Untitled0.ipynb",
      "version": "0.3.2",
      "views": {},
      "default_view": {},
      "provenance": []
    },
    "kernelspec": {
      "name": "python3",
      "display_name": "Python 3"
    },
    "accelerator": "GPU"
  },
  "cells": [
    {
      "metadata": {
        "id": "vc9Z5c5aw-jc",
        "colab_type": "code",
        "colab": {
          "autoexec": {
            "startup": false,
            "wait_interval": 0
          },
          "resources": {
            "http://localhost:8080/nbextensions/google.colab/files.js": {
              "data": "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",
              "ok": true,
              "headers": [
                [
                  "content-type",
                  "application/javascript"
                ]
              ],
              "status": 200,
              "status_text": ""
            }
          },
          "base_uri": "https://localhost:8080/",
          "height": 69
        },
        "outputId": "61ecaacb-a291-428d-cdc2-eb0bb8881ccf",
        "executionInfo": {
          "status": "ok",
          "timestamp": 1528932466625,
          "user_tz": 420,
          "elapsed": 3825216,
          "user": {
            "displayName": "Yi-Ming Chen",
            "photoUrl": "https://lh3.googleusercontent.com/a/default-user=s128",
            "userId": "104821827284582167923"
          }
        }
      },
      "cell_type": "code",
      "source": [
        "from google.colab import files\n",
        "files.upload()"
      ],
      "execution_count": 4,
      "outputs": [
        {
          "output_type": "display_data",
          "data": {
            "text/html": [
              "\n",
              "     <input type=\"file\" id=\"files-5aae5d84-35f9-44dd-8265-e96270d5efe1\" name=\"files[]\" multiple disabled />\n",
              "     <output id=\"result-5aae5d84-35f9-44dd-8265-e96270d5efe1\">\n",
              "      Upload widget is only available when the cell has been executed in the\n",
              "      current browser session. Please rerun this cell to enable.\n",
              "      </output>\n",
              "      <script src=\"/nbextensions/google.colab/files.js\"></script> "
            ],
            "text/plain": [
              "<IPython.core.display.HTML object>"
            ]
          },
          "metadata": {
            "tags": []
          }
        },
        {
          "output_type": "stream",
          "text": [
            "Saving test-32data.save to test-32data.save\n"
          ],
          "name": "stdout"
        }
      ]
    },
    {
      "metadata": {
        "id": "APZ-eb4XO1kd",
        "colab_type": "code",
        "colab": {
          "autoexec": {
            "startup": false,
            "wait_interval": 0
          }
        }
      },
      "cell_type": "code",
      "source": [
        "import json\n",
        "import pickle\n",
        "\n",
        "import cv2\n",
        "import matplotlib.pyplot as plt\n",
        "import tensorflow as tf\n",
        "from keras.backend.tensorflow_backend import set_session\n",
        "from keras.layers import *\n",
        "from keras.models import Sequential\n",
        "from keras.models import model_from_json\n",
        "from keras.optimizers import Adam\n",
        "\n",
        "np.random.seed(1234)"
      ],
      "execution_count": 0,
      "outputs": []
    },
    {
      "metadata": {
        "id": "nehYeRiePNn3",
        "colab_type": "code",
        "colab": {
          "autoexec": {
            "startup": false,
            "wait_interval": 0
          },
          "base_uri": "https://localhost:8080/",
          "height": 34
        },
        "outputId": "e0be8344-f681-4744-b6f0-ab92f44515c5",
        "executionInfo": {
          "status": "ok",
          "timestamp": 1528932630031,
          "user_tz": 420,
          "elapsed": 2641,
          "user": {
            "displayName": "Yi-Ming Chen",
            "photoUrl": "https://lh3.googleusercontent.com/a/default-user=s128",
            "userId": "104821827284582167923"
          }
        }
      },
      "cell_type": "code",
      "source": [
        "!ls"
      ],
      "execution_count": 1,
      "outputs": [
        {
          "output_type": "stream",
          "text": [
            "datalab  test-32data.save\r\n"
          ],
          "name": "stdout"
        }
      ]
    },
    {
      "metadata": {
        "id": "kVZgfQ31GgcN",
        "colab_type": "code",
        "colab": {
          "autoexec": {
            "startup": false,
            "wait_interval": 0
          },
          "base_uri": "https://localhost:8080/",
          "height": 1958
        },
        "outputId": "2e0f5d8f-84aa-4bb9-fbc9-91e407c2d0ce",
        "executionInfo": {
          "status": "ok",
          "timestamp": 1528935060975,
          "user_tz": 420,
          "elapsed": 375529,
          "user": {
            "displayName": "Yi-Ming Chen",
            "photoUrl": "https://lh3.googleusercontent.com/a/default-user=s128",
            "userId": "104821827284582167923"
          }
        }
      },
      "cell_type": "code",
      "source": [
        "def get_image_data(num_training=63000, num_validation=1000, num_test=10000):\n",
        "    \"\"\"\n",
        "    Load the image dataset from disk and perform preprocessing to prepare\n",
        "    it for the two-layer neural net classifier. These are the same steps as\n",
        "    we used for the SVM, but condensed to a single function.\n",
        "    \"\"\"\n",
        "    # Load the raw image data\n",
        "    image_dir = \"test-32data.save\"\n",
        "\n",
        "    data = pickle.load(open(image_dir, 'rb'))\n",
        "    X_train, y_train, X_test, y_test = data['data'][:80000],data['label'][:80000],data['data'][80000:],data['label'][80000:]\n",
        "    X_train=np.array(X_train,'float64')\n",
        "    y_train= np.array(y_train,'float64')\n",
        "    X_test=np.array(X_test,'float64')\n",
        "    y_test=np.array(y_test,'float64')\n",
        "    # Subsample the data\n",
        "    mask = range(num_training, num_training + num_validation)\n",
        "    X_val = X_train[mask]\n",
        "    y_val = y_train[mask]\n",
        "    mask = range(num_training)\n",
        "    X_train = X_train[mask]\n",
        "    y_train = y_train[mask]\n",
        "    mask = range(num_test)\n",
        "    X_test = X_test[mask]\n",
        "    y_test = y_test[mask]\n",
        "\n",
        "    # Normalize the data: subtract the mean image\n",
        "    mean_image = np.mean(X_train, axis=0)\n",
        "    X_train -= mean_image\n",
        "    X_val -= mean_image\n",
        "    X_test -= mean_image\n",
        "\n",
        "    return X_train, y_train, X_val, y_val, X_test, y_test\n",
        "  \n",
        " \n",
        "\n",
        "# Invoke the above function to get our data.\n",
        "X_train, y_train, X_val, y_val, X_test, y_test = get_image_data()\n",
        "y_train=y_train.reshape(-1,42)\n",
        "y_val=y_val.reshape(-1,42)\n",
        "y_test=y_test.reshape(-1,42)\n",
        "print('Train data shape: ', X_train.shape)\n",
        "print('Train labels shape: ', y_train.shape)\n",
        "print('Validation data shape: ', X_val.shape)\n",
        "print('Validation labels shape: ', y_val.shape)\n",
        "print('Test data shape: ', X_test.shape)\n",
        "print('Test labels shape: ', y_test.shape)\n",
        "\n",
        "config = tf.ConfigProto()\n",
        "config.gpu_options.allow_growth = True\n",
        "set_session(tf.Session(config=config))\n",
        "\n",
        "model = Sequential([\n",
        "    Convolution2D(\n",
        "        nb_filter=12,\n",
        "        nb_row=5,\n",
        "        nb_col=5,\n",
        "        subsample=(2, 2),\n",
        "        input_shape=(32, 32, 3)\n",
        "    ),\n",
        "    LeakyReLU(\n",
        "        alpha=0.05\n",
        "    ),\n",
        "    Convolution2D(\n",
        "        nb_filter=12,\n",
        "        nb_row=5,\n",
        "        nb_col=5,\n",
        "        subsample=(2, 2),\n",
        "    ),\n",
        "    LeakyReLU(\n",
        "        alpha=0.05\n",
        "    ),\n",
        "    Convolution2D(\n",
        "        nb_filter=12,\n",
        "        nb_row=5,\n",
        "        nb_col=5,\n",
        "    ),\n",
        "    LeakyReLU(\n",
        "        alpha=0.05\n",
        "    ),\n",
        "    Flatten(),\n",
        "    Dense(\n",
        "        output_dim=1024,\n",
        "        activation='relu'\n",
        "    ),\n",
        "    Dense(\n",
        "        output_dim=1024,\n",
        "        activation='relu'\n",
        "    ),\n",
        "#         Dense(\n",
        "#             output_dim=30,\n",
        "#         ),\n",
        "    Dense(\n",
        "        output_dim=42,\n",
        "#             weights=(pca_eigenvectors, pca_mean),\n",
        "        trainable=False\n",
        "    )\n",
        "])\n",
        "\n",
        "model.compile(\n",
        "    optimizer=Adam(),\n",
        "    loss='mse'\n",
        ")\n",
        "\n",
        "model.fit(\n",
        "    X_train,\n",
        "    y_train,\n",
        "    batch_size=100,\n",
        "    epochs=50,\n",
        ")\n"
      ],
      "execution_count": 36,
      "outputs": [
        {
          "output_type": "stream",
          "text": [
            "Train data shape:  (63000, 32, 32, 3)\n",
            "Train labels shape:  (63000, 42)\n",
            "Validation data shape:  (1000, 32, 32, 3)\n",
            "Validation labels shape:  (1000, 42)\n",
            "Test data shape:  (10000, 32, 32, 3)\n",
            "Test labels shape:  (10000, 42)\n"
          ],
          "name": "stdout"
        },
        {
          "output_type": "stream",
          "text": [
            "/usr/local/lib/python3.6/dist-packages/ipykernel_launcher.py:59: UserWarning: Update your `Conv2D` call to the Keras 2 API: `Conv2D(input_shape=(32, 32, 3..., kernel_size=(5, 5), filters=12, strides=(2, 2))`\n",
            "/usr/local/lib/python3.6/dist-packages/ipykernel_launcher.py:68: UserWarning: Update your `Conv2D` call to the Keras 2 API: `Conv2D(kernel_size=(5, 5), filters=12, strides=(2, 2))`\n",
            "/usr/local/lib/python3.6/dist-packages/ipykernel_launcher.py:76: UserWarning: Update your `Conv2D` call to the Keras 2 API: `Conv2D(kernel_size=(5, 5), filters=12)`\n",
            "/usr/local/lib/python3.6/dist-packages/ipykernel_launcher.py:84: UserWarning: Update your `Dense` call to the Keras 2 API: `Dense(activation=\"relu\", units=1024)`\n",
            "/usr/local/lib/python3.6/dist-packages/ipykernel_launcher.py:88: UserWarning: Update your `Dense` call to the Keras 2 API: `Dense(activation=\"relu\", units=1024)`\n",
            "/usr/local/lib/python3.6/dist-packages/ipykernel_launcher.py:96: UserWarning: Update your `Dense` call to the Keras 2 API: `Dense(trainable=False, units=42)`\n"
          ],
          "name": "stderr"
        },
        {
          "output_type": "stream",
          "text": [
            "Epoch 1/50\n",
            "63000/63000 [==============================] - 8s 128us/step - loss: 13.8938\n",
            "Epoch 2/50\n",
            "63000/63000 [==============================] - 8s 120us/step - loss: 5.3227\n",
            "Epoch 3/50\n",
            "63000/63000 [==============================] - 8s 119us/step - loss: 3.9940\n",
            "Epoch 4/50\n",
            "45800/63000 [====================>.........] - ETA: 2s - loss: 3.2967"
          ],
          "name": "stdout"
        },
        {
          "output_type": "stream",
          "text": [
            "63000/63000 [==============================] - 7s 119us/step - loss: 3.2424\n",
            "Epoch 5/50\n",
            "63000/63000 [==============================] - 7s 119us/step - loss: 2.7932\n",
            "Epoch 6/50\n",
            "63000/63000 [==============================] - 8s 119us/step - loss: 2.4543\n",
            "Epoch 7/50\n",
            "63000/63000 [==============================] - 7s 118us/step - loss: 2.1728\n",
            "Epoch 8/50\n",
            "  100/63000 [..............................] - ETA: 8s - loss: 1.8933"
          ],
          "name": "stdout"
        },
        {
          "output_type": "stream",
          "text": [
            "63000/63000 [==============================] - 8s 120us/step - loss: 1.9627\n",
            "Epoch 9/50\n",
            "63000/63000 [==============================] - 7s 119us/step - loss: 1.8321\n",
            "Epoch 10/50\n",
            "63000/63000 [==============================] - 7s 118us/step - loss: 1.7180\n",
            "Epoch 11/50\n",
            "53500/63000 [========================>.....] - ETA: 1s - loss: 1.6271"
          ],
          "name": "stdout"
        },
        {
          "output_type": "stream",
          "text": [
            "63000/63000 [==============================] - 7s 117us/step - loss: 1.6318\n",
            "Epoch 12/50\n",
            "63000/63000 [==============================] - 7s 118us/step - loss: 1.6085\n",
            "Epoch 13/50\n",
            "63000/63000 [==============================] - 7s 118us/step - loss: 1.5306\n",
            "Epoch 14/50\n",
            "63000/63000 [==============================] - 7s 119us/step - loss: 1.4919\n",
            "Epoch 15/50\n",
            "  100/63000 [..............................] - ETA: 9s - loss: 1.4419"
          ],
          "name": "stdout"
        },
        {
          "output_type": "stream",
          "text": [
            "63000/63000 [==============================] - 7s 118us/step - loss: 1.4532\n",
            "Epoch 16/50\n",
            "63000/63000 [==============================] - 7s 119us/step - loss: 1.3939\n",
            "Epoch 17/50\n",
            "63000/63000 [==============================] - 7s 119us/step - loss: 1.4117\n",
            "Epoch 18/50\n",
            "53200/63000 [========================>.....] - ETA: 1s - loss: 1.3400"
          ],
          "name": "stdout"
        },
        {
          "output_type": "stream",
          "text": [
            "63000/63000 [==============================] - 8s 119us/step - loss: 1.3417\n",
            "Epoch 19/50\n",
            "63000/63000 [==============================] - 7s 119us/step - loss: 1.3212\n",
            "Epoch 20/50\n",
            "63000/63000 [==============================] - 7s 119us/step - loss: 1.2734\n",
            "Epoch 21/50\n",
            "63000/63000 [==============================] - 7s 118us/step - loss: 1.2842\n",
            "Epoch 22/50\n",
            " 1100/63000 [..............................] - ETA: 7s - loss: 1.1947"
          ],
          "name": "stdout"
        },
        {
          "output_type": "stream",
          "text": [
            "63000/63000 [==============================] - 7s 118us/step - loss: 1.2921\n",
            "Epoch 23/50\n",
            "63000/63000 [==============================] - 7s 118us/step - loss: 1.2427\n",
            "Epoch 24/50\n",
            "63000/63000 [==============================] - 7s 118us/step - loss: 1.2308\n",
            "Epoch 25/50\n",
            "53600/63000 [========================>.....] - ETA: 1s - loss: 1.2051"
          ],
          "name": "stdout"
        },
        {
          "output_type": "stream",
          "text": [
            "63000/63000 [==============================] - 7s 118us/step - loss: 1.2225\n",
            "Epoch 26/50\n",
            "63000/63000 [==============================] - 7s 117us/step - loss: 1.1958\n",
            "Epoch 27/50\n",
            "63000/63000 [==============================] - 7s 118us/step - loss: 1.1825\n",
            "Epoch 28/50\n",
            "63000/63000 [==============================] - 7s 118us/step - loss: 1.1659\n",
            "Epoch 29/50\n",
            " 1000/63000 [..............................] - ETA: 7s - loss: 0.9584"
          ],
          "name": "stdout"
        },
        {
          "output_type": "stream",
          "text": [
            "63000/63000 [==============================] - 7s 118us/step - loss: 1.1448\n",
            "Epoch 30/50\n",
            "63000/63000 [==============================] - 7s 118us/step - loss: 1.1851\n",
            "Epoch 31/50\n",
            "63000/63000 [==============================] - 7s 118us/step - loss: 1.1283\n",
            "Epoch 32/50\n",
            "52700/63000 [========================>.....] - ETA: 1s - loss: 1.1126"
          ],
          "name": "stdout"
        },
        {
          "output_type": "stream",
          "text": [
            "63000/63000 [==============================] - 7s 118us/step - loss: 1.1176\n",
            "Epoch 33/50\n",
            "63000/63000 [==============================] - 7s 118us/step - loss: 1.1198\n",
            "Epoch 34/50\n",
            "63000/63000 [==============================] - 7s 119us/step - loss: 1.1228\n",
            "Epoch 35/50\n",
            "63000/63000 [==============================] - 7s 119us/step - loss: 1.1039\n",
            "Epoch 36/50\n",
            "  100/63000 [..............................] - ETA: 9s - loss: 1.0001"
          ],
          "name": "stdout"
        },
        {
          "output_type": "stream",
          "text": [
            "63000/63000 [==============================] - 7s 118us/step - loss: 1.1010\n",
            "Epoch 37/50\n",
            "63000/63000 [==============================] - 7s 117us/step - loss: 1.0608\n",
            "Epoch 38/50\n",
            "63000/63000 [==============================] - 7s 118us/step - loss: 1.0657\n",
            "Epoch 39/50\n",
            "54500/63000 [========================>.....] - ETA: 0s - loss: 1.0761"
          ],
          "name": "stdout"
        },
        {
          "output_type": "stream",
          "text": [
            "63000/63000 [==============================] - 7s 117us/step - loss: 1.0748\n",
            "Epoch 40/50\n",
            "63000/63000 [==============================] - 7s 117us/step - loss: 1.0565\n",
            "Epoch 41/50\n",
            "63000/63000 [==============================] - 7s 117us/step - loss: 1.0665\n",
            "Epoch 42/50\n",
            "63000/63000 [==============================] - 7s 117us/step - loss: 1.0632\n",
            "Epoch 43/50\n",
            " 2100/63000 [>.............................] - ETA: 7s - loss: 0.9542"
          ],
          "name": "stdout"
        },
        {
          "output_type": "stream",
          "text": [
            "63000/63000 [==============================] - 7s 118us/step - loss: 1.0436\n",
            "Epoch 44/50\n",
            "63000/63000 [==============================] - 7s 118us/step - loss: 1.0521\n",
            "Epoch 45/50\n",
            "63000/63000 [==============================] - 7s 118us/step - loss: 1.0212\n",
            "Epoch 46/50\n",
            "53900/63000 [========================>.....] - ETA: 1s - loss: 1.0239"
          ],
          "name": "stdout"
        },
        {
          "output_type": "stream",
          "text": [
            "63000/63000 [==============================] - 7s 117us/step - loss: 1.0392\n",
            "Epoch 47/50\n",
            "63000/63000 [==============================] - 7s 117us/step - loss: 1.0198\n",
            "Epoch 48/50\n",
            "63000/63000 [==============================] - 7s 117us/step - loss: 1.0320\n",
            "Epoch 49/50\n",
            "63000/63000 [==============================] - 7s 117us/step - loss: 1.0189\n",
            "Epoch 50/50\n",
            "  600/63000 [..............................] - ETA: 7s - loss: 0.9274 "
          ],
          "name": "stdout"
        },
        {
          "output_type": "stream",
          "text": [
            "63000/63000 [==============================] - 7s 117us/step - loss: 0.9947\n"
          ],
          "name": "stdout"
        },
        {
          "output_type": "execute_result",
          "data": {
            "text/plain": [
              "<keras.callbacks.History at 0x7f62895183c8>"
            ]
          },
          "metadata": {
            "tags": []
          },
          "execution_count": 36
        }
      ]
    },
    {
      "metadata": {
        "id": "-rRCYsupGwkq",
        "colab_type": "code",
        "colab": {
          "autoexec": {
            "startup": false,
            "wait_interval": 0
          },
          "base_uri": "https://localhost:8080/",
          "height": 364
        },
        "outputId": "f36a0c4d-4188-4eab-b766-5072b30d9e77",
        "executionInfo": {
          "status": "ok",
          "timestamp": 1528935145671,
          "user_tz": 420,
          "elapsed": 2013,
          "user": {
            "displayName": "Yi-Ming Chen",
            "photoUrl": "https://lh3.googleusercontent.com/a/default-user=s128",
            "userId": "104821827284582167923"
          }
        }
      },
      "cell_type": "code",
      "source": [
        "# demo=X_train[1]\n",
        "\n",
        "# sample = np.array(X_train,'float64')\n",
        "# mean_image = np.mean(sample, axis=0)\n",
        "# sample -= mean_image\n",
        "\n",
        "# Load the raw image data\n",
        "image_dir = \"test-32data.save\"\n",
        "\n",
        "data = pickle.load(open(image_dir, 'rb'))\n",
        "X_train, y_train, X_test, y_test = data['data'][:80000],data['label'][:80000],data['data'][80000:],data['label'][80000:]\n",
        "\n",
        "demo=X_test[35]\n",
        "\n",
        "sample = np.array(X_test,'float64')\n",
        "mean_image = np.mean(sample, axis=0)\n",
        "sample -= mean_image\n",
        "\n",
        "\n",
        "predictions = model.predict(sample)\n",
        "out = predictions[35].reshape(-1, 21, 2)\n",
        "\n",
        "print(out.shape)\n",
        "# print(out[0])\n",
        "# pdb.set_trace()\n",
        "\n",
        "plt.imshow(demo)\n",
        "plt.scatter(out[0][:, 1], out[0][:, 0])\n",
        "plt.show()"
      ],
      "execution_count": 38,
      "outputs": [
        {
          "output_type": "stream",
          "text": [
            "(1, 21, 2)\n"
          ],
          "name": "stdout"
        },
        {
          "output_type": "display_data",
          "data": {
            "image/png": "[encoded data removed]",
            "text/plain": [
              "<matplotlib.figure.Figure at 0x7f6284d449b0>"
            ]
          },
          "metadata": {
            "tags": []
          }
        }
      ]
    }
  ]
}