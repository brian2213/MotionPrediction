{
  "nbformat": 4,
  "nbformat_minor": 0,
  "metadata": {
    "colab": {
      "name": "hand pose estimation with prediction.ipynb",
      "version": "0.3.2",
      "views": {},
      "default_view": {},
      "provenance": [],
      "collapsed_sections": []
    },
    "kernelspec": {
      "name": "python3",
      "display_name": "Python 3"
    },
    "accelerator": "GPU"
  },
  "cells": [
    {
      "metadata": {
        "id": "vc9Z5c5aw-jc",
        "colab_type": "code",
        "colab": {
          "autoexec": {
            "startup": false,
            "wait_interval": 0
          }
        }
      },
      "cell_type": "code",
      "source": [
        "from google.colab import files\n",
        "files.upload()"
      ],
      "execution_count": 0,
      "outputs": []
    },
    {
      "metadata": {
        "id": "APZ-eb4XO1kd",
        "colab_type": "code",
        "colab": {
          "autoexec": {
            "startup": false,
            "wait_interval": 0
          },
          "base_uri": "https://localhost:8080/",
          "height": 34
        },
        "outputId": "0d0ab091-3767-4f2a-a544-e5f5c98f5c51",
        "executionInfo": {
          "status": "ok",
          "timestamp": 1529029352927,
          "user_tz": 420,
          "elapsed": 2933,
          "user": {
            "displayName": "Yi-Ming Chen",
            "photoUrl": "https://lh3.googleusercontent.com/a/default-user=s128",
            "userId": "104821827284582167923"
          }
        }
      },
      "cell_type": "code",
      "source": [
        "import json\n",
        "import pickle\n",
        "\n",
        "import cv2\n",
        "import matplotlib.pyplot as plt\n",
        "import tensorflow as tf\n",
        "from keras.backend.tensorflow_backend import set_session\n",
        "from keras.layers import *\n",
        "from keras.models import Sequential\n",
        "from keras.models import model_from_json\n",
        "from keras.optimizers import Adam\n",
        "\n",
        "np.random.seed(1234)"
      ],
      "execution_count": 1,
      "outputs": [
        {
          "output_type": "stream",
          "text": [
            "Using TensorFlow backend.\n"
          ],
          "name": "stderr"
        }
      ]
    },
    {
      "metadata": {
        "id": "nehYeRiePNn3",
        "colab_type": "code",
        "colab": {
          "autoexec": {
            "startup": false,
            "wait_interval": 0
          }
        }
      },
      "cell_type": "code",
      "source": [
        "def get_image_data(num_training=63000, num_validation=1000, num_test=10000):\n",
        "    \"\"\"\n",
        "    Load the image dataset from disk and perform preprocessing to prepare\n",
        "    it for the two-layer neural net classifier. These are the same steps as\n",
        "    we used for the SVM, but condensed to a single function.\n",
        "    \"\"\"\n",
        "    # Load the raw image data\n",
        "    image_dir = \"test-32data.save\"\n",
        "\n",
        "    data = pickle.load(open(image_dir, 'rb'))\n",
        "    \n",
        "    data_label=pickle.load(open('test-32data-fastward-onlylabel.save','rb'))\n",
        "    X_train, y_train, X_test, y_test = data['data'][:80000],data_label[:80000],data['data'][80000:],data_label[80000:]\n",
        "    X_train=np.array(X_train,'float64')\n",
        "    y_train= np.array(y_train,'float64')\n",
        "    X_test=np.array(X_test,'float64')\n",
        "    y_test=np.array(y_test,'float64')\n",
        "    # Subsample the data\n",
        "    mask = range(num_training, num_training + num_validation)\n",
        "    X_val = X_train[mask]\n",
        "    y_val = y_train[mask]\n",
        "    mask = range(num_training)\n",
        "    X_train = X_train[mask]\n",
        "    y_train = y_train[mask]\n",
        "    mask = range(num_test)\n",
        "    X_test = X_test[mask]\n",
        "    y_test = y_test[mask]\n",
        "\n",
        "    # Normalize the data: subtract the mean image\n",
        "    mean_image = np.mean(X_train, axis=0)\n",
        "    X_train -= mean_image\n",
        "    X_val -= mean_image\n",
        "    X_test -= mean_image\n",
        "\n",
        "    return X_train, y_train, X_val, y_val, X_test, y_test\n",
        "  \n",
        "def calculate_error(label1,label2):\n",
        "\n",
        "  square_error = np.square(np.array(label1) - np.array(label2))\n",
        "\n",
        "  error_sum=np.sum(square_error)/square_error.size\n",
        "\n",
        "  return np.sqrt(error_sum) "
      ],
      "execution_count": 0,
      "outputs": []
    },
    {
      "metadata": {
        "id": "kVZgfQ31GgcN",
        "colab_type": "code",
        "colab": {
          "autoexec": {
            "startup": false,
            "wait_interval": 0
          },
          "base_uri": "https://localhost:8080/",
          "height": 1278
        },
        "outputId": "cf93376f-a97f-476b-f9bd-2a6adec4cec6",
        "executionInfo": {
          "status": "ok",
          "timestamp": 1529029597747,
          "user_tz": 420,
          "elapsed": 240867,
          "user": {
            "displayName": "Yi-Ming Chen",
            "photoUrl": "https://lh3.googleusercontent.com/a/default-user=s128",
            "userId": "104821827284582167923"
          }
        }
      },
      "cell_type": "code",
      "source": [
        "\n",
        "\n",
        "# Invoke the above function to get our data.\n",
        "X_train, y_train, X_val, y_val, X_test, y_test = get_image_data()\n",
        "y_train=y_train.reshape(-1,42)\n",
        "y_val=y_val.reshape(-1,42)\n",
        "y_test=y_test.reshape(-1,42)\n",
        "print('Train data shape: ', X_train.shape)\n",
        "print('Train labels shape: ', y_train.shape)\n",
        "print('Validation data shape: ', X_val.shape)\n",
        "print('Validation labels shape: ', y_val.shape)\n",
        "print('Test data shape: ', X_test.shape)\n",
        "print('Test labels shape: ', y_test.shape)\n",
        "\n",
        "config = tf.ConfigProto()\n",
        "config.gpu_options.allow_growth = True\n",
        "set_session(tf.Session(config=config))\n",
        "\n",
        "model = Sequential([\n",
        "    Convolution2D(\n",
        "        nb_filter=12,\n",
        "        nb_row=5,\n",
        "        nb_col=5,\n",
        "        subsample=(2, 2),\n",
        "        input_shape=(32, 32, 3)\n",
        "    ),\n",
        "    LeakyReLU(\n",
        "        alpha=0.05\n",
        "    ),\n",
        "    Convolution2D(\n",
        "        nb_filter=12,\n",
        "        nb_row=5,\n",
        "        nb_col=5,\n",
        "        subsample=(2, 2),\n",
        "    ),\n",
        "    LeakyReLU(\n",
        "        alpha=0.05\n",
        "    ),\n",
        "    Convolution2D(\n",
        "        nb_filter=12,\n",
        "        nb_row=5,\n",
        "        nb_col=5,\n",
        "    ),\n",
        "    LeakyReLU(\n",
        "        alpha=0.05\n",
        "    ),\n",
        "    Flatten(),\n",
        "    Dense(\n",
        "        output_dim=1024,\n",
        "        activation='relu'\n",
        "    ),\n",
        "    Dense(\n",
        "        output_dim=1024,\n",
        "        activation='relu'\n",
        "    ),\n",
        "#         Dense(\n",
        "#             output_dim=30,\n",
        "#         ),\n",
        "    Dense(\n",
        "        output_dim=42,\n",
        "#             weights=(pca_eigenvectors, pca_mean),\n",
        "        trainable=False\n",
        "    )\n",
        "])\n",
        "\n",
        "model.compile(\n",
        "    optimizer=Adam(),\n",
        "    loss='mse'\n",
        ")\n",
        "\n",
        "model.fit(\n",
        "    X_train,\n",
        "    y_train,\n",
        "    batch_size=100,\n",
        "    epochs=30,\n",
        ")"
      ],
      "execution_count": 3,
      "outputs": [
        {
          "output_type": "stream",
          "text": [
            "Train data shape:  (63000, 32, 32, 3)\n",
            "Train labels shape:  (63000, 42)\n",
            "Validation data shape:  (1000, 32, 32, 3)\n",
            "Validation labels shape:  (1000, 42)\n",
            "Test data shape:  (10000, 32, 32, 3)\n",
            "Test labels shape:  (10000, 42)\n"
          ],
          "name": "stdout"
        },
        {
          "output_type": "stream",
          "text": [
            "/usr/local/lib/python3.6/dist-packages/ipykernel_launcher.py:22: UserWarning: Update your `Conv2D` call to the Keras 2 API: `Conv2D(input_shape=(32, 32, 3..., kernel_size=(5, 5), filters=12, strides=(2, 2))`\n",
            "/usr/local/lib/python3.6/dist-packages/ipykernel_launcher.py:31: UserWarning: Update your `Conv2D` call to the Keras 2 API: `Conv2D(kernel_size=(5, 5), filters=12, strides=(2, 2))`\n",
            "/usr/local/lib/python3.6/dist-packages/ipykernel_launcher.py:39: UserWarning: Update your `Conv2D` call to the Keras 2 API: `Conv2D(kernel_size=(5, 5), filters=12)`\n",
            "/usr/local/lib/python3.6/dist-packages/ipykernel_launcher.py:47: UserWarning: Update your `Dense` call to the Keras 2 API: `Dense(activation=\"relu\", units=1024)`\n",
            "/usr/local/lib/python3.6/dist-packages/ipykernel_launcher.py:51: UserWarning: Update your `Dense` call to the Keras 2 API: `Dense(activation=\"relu\", units=1024)`\n",
            "/usr/local/lib/python3.6/dist-packages/ipykernel_launcher.py:59: UserWarning: Update your `Dense` call to the Keras 2 API: `Dense(trainable=False, units=42)`\n"
          ],
          "name": "stderr"
        },
        {
          "output_type": "stream",
          "text": [
            "Epoch 1/30\n",
            "63000/63000 [==============================] - 9s 139us/step - loss: 18.7178\n",
            "Epoch 2/30\n",
            "63000/63000 [==============================] - 8s 120us/step - loss: 12.9541\n",
            "Epoch 3/30\n",
            "63000/63000 [==============================] - 8s 126us/step - loss: 11.9878\n",
            "Epoch 4/30\n",
            "39600/63000 [=================>............] - ETA: 2s - loss: 11.3937"
          ],
          "name": "stdout"
        },
        {
          "output_type": "stream",
          "text": [
            "63000/63000 [==============================] - 8s 120us/step - loss: 11.3130\n",
            "Epoch 5/30\n",
            "63000/63000 [==============================] - 8s 121us/step - loss: 10.8706\n",
            "Epoch 6/30\n",
            "63000/63000 [==============================] - 8s 121us/step - loss: 10.5228\n",
            "Epoch 7/30\n",
            "54000/63000 [========================>.....] - ETA: 1s - loss: 10.2601"
          ],
          "name": "stdout"
        },
        {
          "output_type": "stream",
          "text": [
            "63000/63000 [==============================] - 8s 127us/step - loss: 10.2650\n",
            "Epoch 8/30\n",
            "63000/63000 [==============================] - 8s 122us/step - loss: 10.0271\n",
            "Epoch 9/30\n",
            "63000/63000 [==============================] - 8s 122us/step - loss: 9.9021\n",
            "Epoch 10/30\n",
            "59200/63000 [===========================>..] - ETA: 0s - loss: 9.8219"
          ],
          "name": "stdout"
        },
        {
          "output_type": "stream",
          "text": [
            "63000/63000 [==============================] - 8s 121us/step - loss: 9.8253\n",
            "Epoch 11/30\n",
            "63000/63000 [==============================] - 8s 125us/step - loss: 9.7595\n",
            "Epoch 12/30\n",
            "63000/63000 [==============================] - 8s 122us/step - loss: 9.7191\n",
            "Epoch 13/30\n",
            "60700/63000 [===========================>..] - ETA: 0s - loss: 9.6291"
          ],
          "name": "stdout"
        },
        {
          "output_type": "stream",
          "text": [
            "63000/63000 [==============================] - 8s 121us/step - loss: 9.6323\n",
            "Epoch 14/30\n",
            "63000/63000 [==============================] - 8s 122us/step - loss: 9.6015\n",
            "Epoch 15/30\n",
            "63000/63000 [==============================] - 8s 127us/step - loss: 9.5351\n",
            "Epoch 16/30\n",
            "59500/63000 [===========================>..] - ETA: 0s - loss: 9.5129"
          ],
          "name": "stdout"
        },
        {
          "output_type": "stream",
          "text": [
            "63000/63000 [==============================] - 8s 121us/step - loss: 9.5274\n",
            "Epoch 17/30\n",
            "63000/63000 [==============================] - 8s 122us/step - loss: 9.4822\n",
            "Epoch 18/30\n",
            "63000/63000 [==============================] - 8s 120us/step - loss: 9.4122\n",
            "Epoch 19/30\n",
            "59400/63000 [===========================>..] - ETA: 0s - loss: 9.4038"
          ],
          "name": "stdout"
        },
        {
          "output_type": "stream",
          "text": [
            "63000/63000 [==============================] - 8s 126us/step - loss: 9.3967\n",
            "Epoch 20/30\n",
            "63000/63000 [==============================] - 8s 122us/step - loss: 9.3887\n",
            "Epoch 21/30\n",
            "63000/63000 [==============================] - 8s 122us/step - loss: 9.3278\n",
            "Epoch 22/30\n",
            "60700/63000 [===========================>..] - ETA: 0s - loss: 9.2715"
          ],
          "name": "stdout"
        },
        {
          "output_type": "stream",
          "text": [
            "63000/63000 [==============================] - 8s 121us/step - loss: 9.2681\n",
            "Epoch 23/30\n",
            "63000/63000 [==============================] - 8s 126us/step - loss: 9.2821\n",
            "Epoch 24/30\n",
            "63000/63000 [==============================] - 8s 120us/step - loss: 9.2596\n",
            "Epoch 25/30\n",
            "59800/63000 [===========================>..] - ETA: 0s - loss: 9.2227"
          ],
          "name": "stdout"
        },
        {
          "output_type": "stream",
          "text": [
            "63000/63000 [==============================] - 8s 122us/step - loss: 9.2324\n",
            "Epoch 26/30\n",
            "63000/63000 [==============================] - 8s 122us/step - loss: 9.1998\n",
            "Epoch 27/30\n",
            "63000/63000 [==============================] - 8s 127us/step - loss: 9.1771\n",
            "Epoch 28/30\n",
            "59700/63000 [===========================>..] - ETA: 0s - loss: 9.1599"
          ],
          "name": "stdout"
        },
        {
          "output_type": "stream",
          "text": [
            "63000/63000 [==============================] - 8s 121us/step - loss: 9.1562\n",
            "Epoch 29/30\n",
            "63000/63000 [==============================] - 8s 122us/step - loss: 9.1178\n",
            "Epoch 30/30\n",
            "63000/63000 [==============================] - 8s 120us/step - loss: 9.1308\n"
          ],
          "name": "stdout"
        },
        {
          "output_type": "execute_result",
          "data": {
            "text/plain": [
              "<keras.callbacks.History at 0x7fb2cf858b00>"
            ]
          },
          "metadata": {
            "tags": []
          },
          "execution_count": 3
        }
      ]
    },
    {
      "metadata": {
        "id": "-rRCYsupGwkq",
        "colab_type": "code",
        "colab": {
          "autoexec": {
            "startup": false,
            "wait_interval": 0
          },
          "base_uri": "https://localhost:8080/",
          "height": 68
        },
        "outputId": "4a43fb28-aa11-417c-91a0-a7eac8874165",
        "executionInfo": {
          "status": "ok",
          "timestamp": 1529029607795,
          "user_tz": 420,
          "elapsed": 10012,
          "user": {
            "displayName": "Yi-Ming Chen",
            "photoUrl": "https://lh3.googleusercontent.com/a/default-user=s128",
            "userId": "104821827284582167923"
          }
        }
      },
      "cell_type": "code",
      "source": [
        "# Load the raw image data\n",
        "image_dir = \"test-32data.save\"\n",
        "\n",
        "data = pickle.load(open(image_dir, 'rb'))\n",
        "data_label=pickle.load(open('test-32data-fastward-onlylabel.save','rb'))\n",
        "X_train, y_train, X_test, y_test = data['data'][:80000],data_label[:80000],data['data'][80000:],data_label[80000:]\n",
        "\n",
        "\n",
        "\n",
        "sample = np.array(X_train, 'float64')\n",
        "mean_image = np.mean(sample, axis=0)\n",
        "sample -= mean_image\n",
        "predictions_train = model.predict(sample).reshape(-1, 21, 2)\n",
        "\n",
        "sample = np.array(X_val, 'float64')\n",
        "mean_image = np.mean(sample, axis=0)\n",
        "sample -= mean_image\n",
        "predictions_val = model.predict(sample)\n",
        "\n",
        "sample = np.array(X_test, 'float64')\n",
        "mean_image = np.mean(sample, axis=0)\n",
        "sample -= mean_image\n",
        "predictions_test = model.predict(sample).reshape(-1, 21, 2)\n",
        "\n",
        "\n",
        "print(\"Train set pixels error: %s\"%(calculate_error(y_train,predictions_train)))\n",
        "print(\"Validation set pixels error: %s\" % (calculate_error(y_val, predictions_val)))\n",
        "print(\"Test set pixels error: %s\" % (calculate_error(y_test, predictions_test)))\n"
      ],
      "execution_count": 4,
      "outputs": [
        {
          "output_type": "stream",
          "text": [
            "Train set pixels error: 3.0427005438002155\n",
            "Validation set pixels error: 3.2768134831717886\n",
            "Test set pixels error: 3.215803709395066\n"
          ],
          "name": "stdout"
        }
      ]
    },
    {
      "metadata": {
        "id": "YWxRy4zcnQhw",
        "colab_type": "code",
        "colab": {
          "autoexec": {
            "startup": false,
            "wait_interval": 0
          },
          "base_uri": "https://localhost:8080/",
          "height": 711
        },
        "outputId": "b801dff3-78e6-43d7-cd74-d11b53f3b969",
        "executionInfo": {
          "status": "ok",
          "timestamp": 1529031701810,
          "user_tz": 420,
          "elapsed": 629,
          "user": {
            "displayName": "Yi-Ming Chen",
            "photoUrl": "https://lh3.googleusercontent.com/a/default-user=s128",
            "userId": "104821827284582167923"
          }
        }
      },
      "cell_type": "code",
      "source": [
        "\n",
        "print(\"Predicting the next hand posture\")\n",
        "\n",
        "demo_index=1000\n",
        "# demo_index=1005\n",
        "# demo_index=1015\n",
        "\n",
        "demo = X_test[demo_index]\n",
        "\n",
        "out = predictions_test[demo_index]\n",
        "plt.imshow(cv2.cvtColor(X_test[demo_index], cv2.COLOR_BGR2RGB))\n",
        "# plt.imshow(np.ones((32,32,3)))\n",
        "plt.scatter(out[:, 1], out[:, 0])\n",
        "plt.show()\n",
        "\n",
        "print(\"Correct the next hand posture\")\n",
        "demo_index=68805\n",
        "# demo_index=47624\n",
        "# demo_index=36992\n",
        "\n",
        "\n",
        "demo = data['data'][demo_index]\n",
        "\n",
        "# data_label=pickle.load(open('test-32data-fastward-onlylabel.save','rb'))\n",
        "# print(data_label.shape)\n",
        "plt.imshow(cv2.cvtColor(demo, cv2.COLOR_BGR2RGB))\n",
        "# plt.imshow(np.ones((32,32,3)))\n",
        "plt.scatter(data['label'][demo_index][ :,1], data['label'][demo_index][:,0])\n",
        "# plt.scatter(out[:, 1], out[:, 0])\n",
        "plt.show()"
      ],
      "execution_count": 29,
      "outputs": [
        {
          "output_type": "stream",
          "text": [
            "Predicting the next hand posture\n"
          ],
          "name": "stdout"
        },
        {
          "output_type": "display_data",
          "data": {
            "image/png": "[encoded data removed]",
            "text/plain": [
              "<matplotlib.figure.Figure at 0x7fb2ca2527b8>"
            ]
          },
          "metadata": {
            "tags": []
          }
        },
        {
          "output_type": "stream",
          "text": [
            "Correct the next hand posture\n"
          ],
          "name": "stdout"
        },
        {
          "output_type": "display_data",
          "data": {
            "image/png": "[encoded data removed]",
            "text/plain": [
              "<matplotlib.figure.Figure at 0x7fb250ea4550>"
            ]
          },
          "metadata": {
            "tags": []
          }
        }
      ]
    },
    {
      "metadata": {
        "id": "ocn4ka8duuls",
        "colab_type": "code",
        "colab": {
          "autoexec": {
            "startup": false,
            "wait_interval": 0
          },
          "base_uri": "https://localhost:8080/",
          "height": 711
        },
        "outputId": "c064fd74-c6f8-4c5e-b53f-619a3383f47c",
        "executionInfo": {
          "status": "ok",
          "timestamp": 1529031721640,
          "user_tz": 420,
          "elapsed": 547,
          "user": {
            "displayName": "Yi-Ming Chen",
            "photoUrl": "https://lh3.googleusercontent.com/a/default-user=s128",
            "userId": "104821827284582167923"
          }
        }
      },
      "cell_type": "code",
      "source": [
        "print(\"Predicting the next hand posture\")\n",
        "\n",
        "# demo_index=1000\n",
        "demo_index=1005\n",
        "# demo_index=1015\n",
        "\n",
        "demo = X_test[demo_index]\n",
        "\n",
        "out = predictions_test[demo_index]\n",
        "plt.imshow(cv2.cvtColor(X_test[demo_index], cv2.COLOR_BGR2RGB))\n",
        "# plt.imshow(np.ones((32,32,3)))\n",
        "plt.scatter(out[:, 1], out[:, 0])\n",
        "plt.show()\n",
        "\n",
        "print(\"Correct the next hand posture\")\n",
        "# demo_index=68805\n",
        "demo_index=47624\n",
        "# demo_index=36992\n",
        "\n",
        "\n",
        "demo = data['data'][demo_index]\n",
        "\n",
        "# data_label=pickle.load(open('test-32data-fastward-onlylabel.save','rb'))\n",
        "# print(data_label.shape)\n",
        "plt.imshow(cv2.cvtColor(demo, cv2.COLOR_BGR2RGB))\n",
        "# plt.imshow(np.ones((32,32,3)))\n",
        "plt.scatter(data['label'][demo_index][ :,1], data['label'][demo_index][:,0])\n",
        "# plt.scatter(out[:, 1], out[:, 0])\n",
        "plt.show()"
      ],
      "execution_count": 30,
      "outputs": [
        {
          "output_type": "stream",
          "text": [
            "Predicting the next hand posture\n"
          ],
          "name": "stdout"
        },
        {
          "output_type": "display_data",
          "data": {
            "image/png": "[encoded data removed]",
            "text/plain": [
              "<matplotlib.figure.Figure at 0x7fb250e7d7f0>"
            ]
          },
          "metadata": {
            "tags": []
          }
        },
        {
          "output_type": "stream",
          "text": [
            "Correct the next hand posture\n"
          ],
          "name": "stdout"
        },
        {
          "output_type": "display_data",
          "data": {
            "image/png": "[encoded data removed]",
            "text/plain": [
              "<matplotlib.figure.Figure at 0x7fb250f3b9e8>"
            ]
          },
          "metadata": {
            "tags": []
          }
        }
      ]
    },
    {
      "metadata": {
        "id": "Zonr6pD1ZJof",
        "colab_type": "code",
        "colab": {
          "autoexec": {
            "startup": false,
            "wait_interval": 0
          },
          "base_uri": "https://localhost:8080/",
          "height": 711
        },
        "outputId": "942ba70e-a0e4-4748-df6c-2c7f898e545a",
        "executionInfo": {
          "status": "ok",
          "timestamp": 1529031736010,
          "user_tz": 420,
          "elapsed": 566,
          "user": {
            "displayName": "Yi-Ming Chen",
            "photoUrl": "https://lh3.googleusercontent.com/a/default-user=s128",
            "userId": "104821827284582167923"
          }
        }
      },
      "cell_type": "code",
      "source": [
        "print(\"Predicting the next hand posture\")\n",
        "\n",
        "# demo_index=1000\n",
        "# demo_index=1005\n",
        "demo_index=1015\n",
        "\n",
        "demo = X_test[demo_index]\n",
        "\n",
        "out = predictions_test[demo_index]\n",
        "plt.imshow(cv2.cvtColor(X_test[demo_index], cv2.COLOR_BGR2RGB))\n",
        "# plt.imshow(np.ones((32,32,3)))\n",
        "plt.scatter(out[:, 1], out[:, 0])\n",
        "plt.show()\n",
        "\n",
        "print(\"Correct the next hand posture\")\n",
        "# demo_index=68805\n",
        "# demo_index=47624\n",
        "demo_index=36992\n",
        "\n",
        "\n",
        "demo = data['data'][demo_index]\n",
        "\n",
        "# data_label=pickle.load(open('test-32data-fastward-onlylabel.save','rb'))\n",
        "# print(data_label.shape)\n",
        "plt.imshow(cv2.cvtColor(demo, cv2.COLOR_BGR2RGB))\n",
        "# plt.imshow(np.ones((32,32,3)))\n",
        "plt.scatter(data['label'][demo_index][ :,1], data['label'][demo_index][:,0])\n",
        "# plt.scatter(out[:, 1], out[:, 0])\n",
        "plt.show()"
      ],
      "execution_count": 31,
      "outputs": [
        {
          "output_type": "stream",
          "text": [
            "Predicting the next hand posture\n"
          ],
          "name": "stdout"
        },
        {
          "output_type": "display_data",
          "data": {
            "image/png": "[encoded data removed]",
            "text/plain": [
              "<matplotlib.figure.Figure at 0x7fb250e555f8>"
            ]
          },
          "metadata": {
            "tags": []
          }
        },
        {
          "output_type": "stream",
          "text": [
            "Correct the next hand posture\n"
          ],
          "name": "stdout"
        },
        {
          "output_type": "display_data",
          "data": {
            "image/png": "[encoded data removed]",
            "text/plain": [
              "<matplotlib.figure.Figure at 0x7fb2513cbda0>"
            ]
          },
          "metadata": {
            "tags": []
          }
        }
      ]
    }
  ]
}