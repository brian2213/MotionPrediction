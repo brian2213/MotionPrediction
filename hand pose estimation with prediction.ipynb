{
  "nbformat": 4,
  "nbformat_minor": 0,
  "metadata": {
    "colab": {
      "name": "hand pose estimation with prediction.ipynb",
      "version": "0.3.2",
      "views": {},
      "default_view": {},
      "provenance": [],
      "collapsed_sections": []
    },
    "kernelspec": {
      "name": "python3",
      "display_name": "Python 3"
    },
    "accelerator": "GPU"
  },
  "cells": [
    {
      "metadata": {
        "id": "vc9Z5c5aw-jc",
        "colab_type": "code",
        "colab": {
          "autoexec": {
            "startup": false,
            "wait_interval": 0
          },
          "resources": {
            "http://localhost:8080/nbextensions/google.colab/files.js": {
              "data": "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",
              "ok": true,
              "headers": [
                [
                  "content-type",
                  "application/javascript"
                ]
              ],
              "status": 200,
              "status_text": ""
            }
          },
          "base_uri": "https://localhost:8080/",
          "height": 69
        },
        "outputId": "26ff4bc1-e5a4-45b5-95cd-f12347e735cd",
        "executionInfo": {
          "status": "ok",
          "timestamp": 1529019251690,
          "user_tz": 420,
          "elapsed": 152199,
          "user": {
            "displayName": "Yi-Ming Chen",
            "photoUrl": "https://lh3.googleusercontent.com/a/default-user=s128",
            "userId": "104821827284582167923"
          }
        }
      },
      "cell_type": "code",
      "source": [
        "from google.colab import files\n",
        "files.upload()"
      ],
      "execution_count": 1,
      "outputs": [
        {
          "output_type": "display_data",
          "data": {
            "text/html": [
              "\n",
              "     <input type=\"file\" id=\"files-85024ef9-7679-4f71-a3da-c073403949eb\" name=\"files[]\" multiple disabled />\n",
              "     <output id=\"result-85024ef9-7679-4f71-a3da-c073403949eb\">\n",
              "      Upload widget is only available when the cell has been executed in the\n",
              "      current browser session. Please rerun this cell to enable.\n",
              "      </output>\n",
              "      <script src=\"/nbextensions/google.colab/files.js\"></script> "
            ],
            "text/plain": [
              "<IPython.core.display.HTML object>"
            ]
          },
          "metadata": {
            "tags": []
          }
        },
        {
          "output_type": "stream",
          "text": [
            "Saving test-32data-fastward-onlylabel.save to test-32data-fastward-onlylabel.save\n"
          ],
          "name": "stdout"
        }
      ]
    },
    {
      "metadata": {
        "id": "APZ-eb4XO1kd",
        "colab_type": "code",
        "colab": {
          "autoexec": {
            "startup": false,
            "wait_interval": 0
          },
          "base_uri": "https://localhost:8080/",
          "height": 34
        },
        "outputId": "0d55fb0b-9b51-4e22-c237-65e12b43f166",
        "executionInfo": {
          "status": "ok",
          "timestamp": 1529019445287,
          "user_tz": 420,
          "elapsed": 2313,
          "user": {
            "displayName": "Yi-Ming Chen",
            "photoUrl": "https://lh3.googleusercontent.com/a/default-user=s128",
            "userId": "104821827284582167923"
          }
        }
      },
      "cell_type": "code",
      "source": [
        "import json\n",
        "import pickle\n",
        "\n",
        "import cv2\n",
        "import matplotlib.pyplot as plt\n",
        "import tensorflow as tf\n",
        "from keras.backend.tensorflow_backend import set_session\n",
        "from keras.layers import *\n",
        "from keras.models import Sequential\n",
        "from keras.models import model_from_json\n",
        "from keras.optimizers import Adam\n",
        "\n",
        "np.random.seed(1234)"
      ],
      "execution_count": 2,
      "outputs": [
        {
          "output_type": "stream",
          "text": [
            "Using TensorFlow backend.\n"
          ],
          "name": "stderr"
        }
      ]
    },
    {
      "metadata": {
        "id": "nehYeRiePNn3",
        "colab_type": "code",
        "colab": {
          "autoexec": {
            "startup": false,
            "wait_interval": 0
          },
          "base_uri": "https://localhost:8080/",
          "height": 34
        },
        "outputId": "5bdd5768-389c-44ca-9624-72367d5dd71d",
        "executionInfo": {
          "status": "ok",
          "timestamp": 1529014099248,
          "user_tz": 420,
          "elapsed": 1472,
          "user": {
            "displayName": "Yi-Ming Chen",
            "photoUrl": "https://lh3.googleusercontent.com/a/default-user=s128",
            "userId": "104821827284582167923"
          }
        }
      },
      "cell_type": "code",
      "source": [
        "def get_image_data(num_training=63000, num_validation=1000, num_test=10000):\n",
        "    \"\"\"\n",
        "    Load the image dataset from disk and perform preprocessing to prepare\n",
        "    it for the two-layer neural net classifier. These are the same steps as\n",
        "    we used for the SVM, but condensed to a single function.\n",
        "    \"\"\"\n",
        "    # Load the raw image data\n",
        "    image_dir = \"test-32data.save\"\n",
        "\n",
        "    data = pickle.load(open(image_dir, 'rb'))\n",
        "    \n",
        "    data_label=pickle.load(open('test-32data-fastward-onlylabel.save','rb'))\n",
        "    X_train, y_train, X_test, y_test = data['data'][:80000],data_label[:80000],data['data'][80000:],data_label[80000:]\n",
        "    X_train=np.array(X_train,'float64')\n",
        "    y_train= np.array(y_train,'float64')\n",
        "    X_test=np.array(X_test,'float64')\n",
        "    y_test=np.array(y_test,'float64')\n",
        "    # Subsample the data\n",
        "    mask = range(num_training, num_training + num_validation)\n",
        "    X_val = X_train[mask]\n",
        "    y_val = y_train[mask]\n",
        "    mask = range(num_training)\n",
        "    X_train = X_train[mask]\n",
        "    y_train = y_train[mask]\n",
        "    mask = range(num_test)\n",
        "    X_test = X_test[mask]\n",
        "    y_test = y_test[mask]\n",
        "\n",
        "    # Normalize the data: subtract the mean image\n",
        "    mean_image = np.mean(X_train, axis=0)\n",
        "    X_train -= mean_image\n",
        "    X_val -= mean_image\n",
        "    X_test -= mean_image\n",
        "\n",
        "    return X_train, y_train, X_val, y_val, X_test, y_test\n",
        "  \n",
        "def calculate_error(label1,label2):\n",
        "\n",
        "  square_error = np.square(np.array(label1) - np.array(label2))\n",
        "\n",
        "  error_sum=np.sum(square_error)/square_error.size\n",
        "\n",
        "  return np.sqrt(error_sum) "
      ],
      "execution_count": 1,
      "outputs": [
        {
          "output_type": "stream",
          "text": [
            "datalab\r\n"
          ],
          "name": "stdout"
        }
      ]
    },
    {
      "metadata": {
        "id": "kVZgfQ31GgcN",
        "colab_type": "code",
        "colab": {
          "autoexec": {
            "startup": false,
            "wait_interval": 0
          },
          "base_uri": "https://localhost:8080/",
          "height": 1958
        },
        "outputId": "d2af50ec-1e54-4d0c-b6ae-f881a30e3d4d",
        "executionInfo": {
          "status": "ok",
          "timestamp": 1528948569599,
          "user_tz": 420,
          "elapsed": 397277,
          "user": {
            "displayName": "Yi-Ming Chen",
            "photoUrl": "https://lh3.googleusercontent.com/a/default-user=s128",
            "userId": "104821827284582167923"
          }
        }
      },
      "cell_type": "code",
      "source": [
        "\n",
        "\n",
        "# Invoke the above function to get our data.\n",
        "X_train, y_train, X_val, y_val, X_test, y_test = get_image_data()\n",
        "y_train=y_train.reshape(-1,42)\n",
        "y_val=y_val.reshape(-1,42)\n",
        "y_test=y_test.reshape(-1,42)\n",
        "print('Train data shape: ', X_train.shape)\n",
        "print('Train labels shape: ', y_train.shape)\n",
        "print('Validation data shape: ', X_val.shape)\n",
        "print('Validation labels shape: ', y_val.shape)\n",
        "print('Test data shape: ', X_test.shape)\n",
        "print('Test labels shape: ', y_test.shape)\n",
        "\n",
        "config = tf.ConfigProto()\n",
        "config.gpu_options.allow_growth = True\n",
        "set_session(tf.Session(config=config))\n",
        "\n",
        "model = Sequential([\n",
        "    Convolution2D(\n",
        "        nb_filter=12,\n",
        "        nb_row=5,\n",
        "        nb_col=5,\n",
        "        subsample=(2, 2),\n",
        "        input_shape=(32, 32, 3)\n",
        "    ),\n",
        "    LeakyReLU(\n",
        "        alpha=0.05\n",
        "    ),\n",
        "    Convolution2D(\n",
        "        nb_filter=12,\n",
        "        nb_row=5,\n",
        "        nb_col=5,\n",
        "#         subsample=(2, 2),\n",
        "    ),\n",
        "    LeakyReLU(\n",
        "        alpha=0.05\n",
        "    ),\n",
        "#     Convolution2D(\n",
        "#         nb_filter=12,\n",
        "#         nb_row=5,\n",
        "#         nb_col=5,\n",
        "#     ),\n",
        "#     LeakyReLU(\n",
        "#         alpha=0.05\n",
        "#     ),\n",
        "    Flatten(),\n",
        "    Dense(\n",
        "        output_dim=1024,\n",
        "        activation='relu'\n",
        "    ),\n",
        "    Dense(\n",
        "        output_dim=1024,\n",
        "        activation='relu'\n",
        "    ),\n",
        "#         Dense(\n",
        "#             output_dim=30,\n",
        "#         ),\n",
        "    Dense(\n",
        "        output_dim=42,\n",
        "#             weights=(pca_eigenvectors, pca_mean),\n",
        "        trainable=False\n",
        "    )\n",
        "])\n",
        "\n",
        "model.compile(\n",
        "    optimizer=Adam(),\n",
        "    loss='mse'\n",
        ")\n",
        "\n",
        "model.fit(\n",
        "    X_train,\n",
        "    y_train,\n",
        "    batch_size=100,\n",
        "    epochs=30,\n",
        ")"
      ],
      "execution_count": 0,
      "outputs": [
        {
          "output_type": "stream",
          "text": [
            "Train data shape:  (63000, 32, 32, 3)\n",
            "Train labels shape:  (63000, 42)\n",
            "Validation data shape:  (1000, 32, 32, 3)\n",
            "Validation labels shape:  (1000, 42)\n",
            "Test data shape:  (10000, 32, 32, 3)\n",
            "Test labels shape:  (10000, 42)\n"
          ],
          "name": "stdout"
        },
        {
          "output_type": "stream",
          "text": [
            "/usr/local/lib/python3.6/dist-packages/ipykernel_launcher.py:61: UserWarning: Update your `Conv2D` call to the Keras 2 API: `Conv2D(input_shape=(32, 32, 3..., kernel_size=(5, 5), filters=12, strides=(2, 2))`\n",
            "/usr/local/lib/python3.6/dist-packages/ipykernel_launcher.py:70: UserWarning: Update your `Conv2D` call to the Keras 2 API: `Conv2D(kernel_size=(5, 5), filters=12, strides=(2, 2))`\n",
            "/usr/local/lib/python3.6/dist-packages/ipykernel_launcher.py:78: UserWarning: Update your `Conv2D` call to the Keras 2 API: `Conv2D(kernel_size=(5, 5), filters=12)`\n",
            "/usr/local/lib/python3.6/dist-packages/ipykernel_launcher.py:86: UserWarning: Update your `Dense` call to the Keras 2 API: `Dense(activation=\"relu\", units=1024)`\n",
            "/usr/local/lib/python3.6/dist-packages/ipykernel_launcher.py:90: UserWarning: Update your `Dense` call to the Keras 2 API: `Dense(activation=\"relu\", units=1024)`\n",
            "/usr/local/lib/python3.6/dist-packages/ipykernel_launcher.py:94: UserWarning: Update your `Dense` call to the Keras 2 API: `Dense(trainable=False, units=42)`\n"
          ],
          "name": "stderr"
        },
        {
          "output_type": "stream",
          "text": [
            "Epoch 1/50\n",
            "63000/63000 [==============================] - 8s 133us/step - loss: 18.3424\n",
            "Epoch 2/50\n",
            "63000/63000 [==============================] - 8s 130us/step - loss: 12.7555\n",
            "Epoch 3/50\n",
            "63000/63000 [==============================] - 8s 122us/step - loss: 11.8120\n",
            "Epoch 4/50\n",
            "38500/63000 [=================>............] - ETA: 2s - loss: 11.2840"
          ],
          "name": "stdout"
        },
        {
          "output_type": "stream",
          "text": [
            "63000/63000 [==============================] - 8s 123us/step - loss: 11.2254\n",
            "Epoch 5/50\n",
            "63000/63000 [==============================] - 8s 122us/step - loss: 10.8396\n",
            "Epoch 6/50\n",
            "63000/63000 [==============================] - 8s 128us/step - loss: 10.5114\n",
            "Epoch 7/50\n",
            "54600/63000 [=========================>....] - ETA: 1s - loss: 10.2137"
          ],
          "name": "stdout"
        },
        {
          "output_type": "stream",
          "text": [
            "63000/63000 [==============================] - 8s 125us/step - loss: 10.2002\n",
            "Epoch 8/50\n",
            "63000/63000 [==============================] - 8s 125us/step - loss: 9.9859\n",
            "Epoch 9/50\n",
            "63000/63000 [==============================] - 8s 125us/step - loss: 9.8677\n",
            "Epoch 10/50\n",
            "57400/63000 [==========================>...] - ETA: 0s - loss: 9.7593"
          ],
          "name": "stdout"
        },
        {
          "output_type": "stream",
          "text": [
            "63000/63000 [==============================] - 8s 127us/step - loss: 9.7492\n",
            "Epoch 11/50\n",
            "63000/63000 [==============================] - 8s 123us/step - loss: 9.6903\n",
            "Epoch 12/50\n",
            "63000/63000 [==============================] - 8s 124us/step - loss: 9.6266\n",
            "Epoch 13/50\n",
            "60400/63000 [===========================>..] - ETA: 0s - loss: 9.5740"
          ],
          "name": "stdout"
        },
        {
          "output_type": "stream",
          "text": [
            "63000/63000 [==============================] - 8s 123us/step - loss: 9.5802\n",
            "Epoch 14/50\n",
            "63000/63000 [==============================] - 8s 129us/step - loss: 9.5235\n",
            "Epoch 15/50\n",
            "63000/63000 [==============================] - 8s 123us/step - loss: 9.4863\n",
            "Epoch 16/50\n",
            "61000/63000 [============================>.] - ETA: 0s - loss: 9.4107"
          ],
          "name": "stdout"
        },
        {
          "output_type": "stream",
          "text": [
            "63000/63000 [==============================] - 8s 123us/step - loss: 9.4317\n",
            "Epoch 17/50\n",
            "63000/63000 [==============================] - 8s 123us/step - loss: 9.4091\n",
            "Epoch 18/50\n",
            "63000/63000 [==============================] - 8s 130us/step - loss: 9.3320\n",
            "Epoch 19/50\n",
            "59500/63000 [===========================>..] - ETA: 0s - loss: 9.3280"
          ],
          "name": "stdout"
        },
        {
          "output_type": "stream",
          "text": [
            "63000/63000 [==============================] - 8s 123us/step - loss: 9.3188\n",
            "Epoch 20/50\n",
            "63000/63000 [==============================] - 8s 125us/step - loss: 9.3041\n",
            "Epoch 21/50\n",
            "63000/63000 [==============================] - 8s 126us/step - loss: 9.2816\n",
            "Epoch 22/50\n",
            "59300/63000 [===========================>..] - ETA: 0s - loss: 9.2337"
          ],
          "name": "stdout"
        },
        {
          "output_type": "stream",
          "text": [
            "63000/63000 [==============================] - 8s 126us/step - loss: 9.2459\n",
            "Epoch 23/50\n",
            "63000/63000 [==============================] - 8s 124us/step - loss: 9.2450\n",
            "Epoch 24/50\n",
            "63000/63000 [==============================] - 8s 123us/step - loss: 9.1960\n",
            "Epoch 25/50\n",
            "58200/63000 [==========================>...] - ETA: 0s - loss: 9.1527"
          ],
          "name": "stdout"
        },
        {
          "output_type": "stream",
          "text": [
            "63000/63000 [==============================] - 8s 129us/step - loss: 9.1600\n",
            "Epoch 26/50\n",
            "63000/63000 [==============================] - 8s 124us/step - loss: 9.0987\n",
            "Epoch 27/50\n",
            "63000/63000 [==============================] - 8s 124us/step - loss: 9.1019\n",
            "Epoch 28/50\n",
            "61400/63000 [============================>.] - ETA: 0s - loss: 9.0896"
          ],
          "name": "stdout"
        },
        {
          "output_type": "stream",
          "text": [
            "63000/63000 [==============================] - 8s 123us/step - loss: 9.0784\n",
            "Epoch 29/50\n",
            "63000/63000 [==============================] - 8s 128us/step - loss: 9.0650\n",
            "Epoch 30/50\n",
            "63000/63000 [==============================] - 8s 122us/step - loss: 9.0357\n",
            "Epoch 31/50\n",
            "62200/63000 [============================>.] - ETA: 0s - loss: 8.9977"
          ],
          "name": "stdout"
        },
        {
          "output_type": "stream",
          "text": [
            "63000/63000 [==============================] - 8s 123us/step - loss: 9.0007\n",
            "Epoch 32/50\n",
            "63000/63000 [==============================] - 8s 122us/step - loss: 8.9993\n",
            "Epoch 33/50\n",
            "63000/63000 [==============================] - 8s 127us/step - loss: 8.9913\n",
            "Epoch 34/50\n",
            "59500/63000 [===========================>..] - ETA: 0s - loss: 8.9825"
          ],
          "name": "stdout"
        },
        {
          "output_type": "stream",
          "text": [
            "63000/63000 [==============================] - 8s 124us/step - loss: 8.9801\n",
            "Epoch 35/50\n",
            "63000/63000 [==============================] - 8s 124us/step - loss: 8.8991\n",
            "Epoch 36/50\n",
            "63000/63000 [==============================] - 8s 124us/step - loss: 8.8959\n",
            "Epoch 37/50\n",
            "57700/63000 [==========================>...] - ETA: 0s - loss: 8.8873"
          ],
          "name": "stdout"
        },
        {
          "output_type": "stream",
          "text": [
            "63000/63000 [==============================] - 8s 129us/step - loss: 8.8995\n",
            "Epoch 38/50\n",
            "63000/63000 [==============================] - 8s 124us/step - loss: 8.8810\n",
            "Epoch 39/50\n",
            "63000/63000 [==============================] - 8s 123us/step - loss: 8.8715\n",
            "Epoch 40/50\n",
            "60200/63000 [===========================>..] - ETA: 0s - loss: 8.8064"
          ],
          "name": "stdout"
        },
        {
          "output_type": "stream",
          "text": [
            "63000/63000 [==============================] - 8s 124us/step - loss: 8.8222\n",
            "Epoch 41/50\n",
            "63000/63000 [==============================] - 8s 131us/step - loss: 8.8264\n",
            "Epoch 42/50\n",
            "63000/63000 [==============================] - 8s 125us/step - loss: 8.8046\n",
            "Epoch 43/50\n",
            "56500/63000 [=========================>....] - ETA: 0s - loss: 8.7683"
          ],
          "name": "stdout"
        },
        {
          "output_type": "stream",
          "text": [
            "63000/63000 [==============================] - 8s 124us/step - loss: 8.8093\n",
            "Epoch 44/50\n",
            "63000/63000 [==============================] - 8s 126us/step - loss: 8.7654\n",
            "Epoch 45/50\n",
            "63000/63000 [==============================] - 8s 127us/step - loss: 8.7716\n",
            "Epoch 46/50\n",
            "60300/63000 [===========================>..] - ETA: 0s - loss: 8.7150"
          ],
          "name": "stdout"
        },
        {
          "output_type": "stream",
          "text": [
            "63000/63000 [==============================] - 8s 123us/step - loss: 8.7329\n",
            "Epoch 47/50\n",
            "63000/63000 [==============================] - 8s 127us/step - loss: 8.7334\n",
            "Epoch 48/50\n",
            "63000/63000 [==============================] - 8s 132us/step - loss: 8.6876\n",
            "Epoch 49/50\n",
            "54800/63000 [=========================>....] - ETA: 1s - loss: 8.7306"
          ],
          "name": "stdout"
        },
        {
          "output_type": "stream",
          "text": [
            "63000/63000 [==============================] - 8s 124us/step - loss: 8.7272\n",
            "Epoch 50/50\n",
            "63000/63000 [==============================] - 8s 123us/step - loss: 8.7081\n"
          ],
          "name": "stdout"
        },
        {
          "output_type": "execute_result",
          "data": {
            "text/plain": [
              "<keras.callbacks.History at 0x7f7fc6ee8588>"
            ]
          },
          "metadata": {
            "tags": []
          },
          "execution_count": 12
        }
      ]
    },
    {
      "metadata": {
        "id": "-rRCYsupGwkq",
        "colab_type": "code",
        "colab": {
          "autoexec": {
            "startup": false,
            "wait_interval": 0
          },
          "base_uri": "https://localhost:8080/",
          "height": 364
        },
        "outputId": "9a7652fb-7bb8-4e55-ed7d-bf659ac147d4",
        "executionInfo": {
          "status": "ok",
          "timestamp": 1528948572472,
          "user_tz": 420,
          "elapsed": 2796,
          "user": {
            "displayName": "Yi-Ming Chen",
            "photoUrl": "https://lh3.googleusercontent.com/a/default-user=s128",
            "userId": "104821827284582167923"
          }
        }
      },
      "cell_type": "code",
      "source": [
        "# Load the raw image data\n",
        "image_dir = \"test-32data.save\"\n",
        "\n",
        "data = pickle.load(open(image_dir, 'rb'))\n",
        "X_train, y_train, X_test, y_test = data['data'][:80000],data['label'][:80000],data['data'][80000:],data['label'][80000:]\n",
        "\n",
        "\n",
        "\n",
        "sample = np.array(X_train, 'float64')\n",
        "mean_image = np.mean(sample, axis=0)\n",
        "sample -= mean_image\n",
        "predictions_train = model.predict(sample).reshape(-1, 21, 2)\n",
        "\n",
        "sample = np.array(X_val, 'float64')\n",
        "mean_image = np.mean(sample, axis=0)\n",
        "sample -= mean_image\n",
        "predictions_val = model.predict(sample)\n",
        "\n",
        "sample = np.array(X_test, 'float64')\n",
        "mean_image = np.mean(sample, axis=0)\n",
        "sample -= mean_image\n",
        "predictions_test = model.predict(sample).reshape(-1, 21, 2)\n",
        "\n",
        "\n",
        "print(\"Train set pixels error: %s\"%(calculate_error(y_train,predictions_train)))\n",
        "print(\"Validation set pixels error: %s\" % (calculate_error(y_val, predictions_val)))\n",
        "print(\"Test set pixels error: %s\" % (calculate_error(y_test, predictions_test)))\n"
      ],
      "execution_count": 0,
      "outputs": [
        {
          "output_type": "stream",
          "text": [
            "(1, 21, 2)\n"
          ],
          "name": "stdout"
        },
        {
          "output_type": "display_data",
          "data": {
            "image/png": "[encoded data removed]",
            "text/plain": [
              "<matplotlib.figure.Figure at 0x7f8038312710>"
            ]
          },
          "metadata": {
            "tags": []
          }
        }
      ]
    },
    {
      "metadata": {
        "id": "YWxRy4zcnQhw",
        "colab_type": "code",
        "colab": {
          "autoexec": {
            "startup": false,
            "wait_interval": 0
          }
        }
      },
      "cell_type": "code",
      "source": [
        "demo_index=1000\n",
        "demo = X_test[demo_index]\n",
        "\n",
        "out = predictions_test[demo_index]\n",
        "plt.imshow(cv2.cvtColor(X_test[demo_index], cv2.COLOR_BGR2RGB))\n",
        "plt.scatter(out[:, 1], out[:, 0])\n",
        "plt.show()"
      ],
      "execution_count": 0,
      "outputs": []
    }
  ]
}